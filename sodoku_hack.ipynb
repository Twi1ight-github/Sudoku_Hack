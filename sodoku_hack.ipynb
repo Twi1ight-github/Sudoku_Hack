{
 "cells": [
  {
   "cell_type": "code",
   "execution_count": 1,
   "metadata": {},
   "outputs": [],
   "source": [
    "import os\n",
    "import numpy as np\n",
    "import pandas as pd\n",
    "import seaborn as sns\n",
    "import matplotlib.pyplot as plt\n",
    "import os\n",
    "import random\n",
    "import cv2\n",
    "from glob import glob\n",
    "import sklearn\n",
    "from sklearn.model_selection import train_test_split\n",
    "import tensorflow as tf\n",
    "from tensorflow import keras\n",
    "from tensorflow.keras.preprocessing.image import ImageDataGenerator\n",
    "from keras.preprocessing.image import ImageDataGenerator\n",
    "from keras.utils.np_utils import to_categorical\n",
    "from tensorflow.keras.models import Sequential\n",
    "from tensorflow.keras.layers import Activation, Dropout, Dense, Flatten, BatchNormalization, Conv2D, MaxPooling2D\n",
    "from tensorflow.keras.optimizers import RMSprop\n",
    "from tensorflow.keras import backend as K\n",
    "from keras.preprocessing import image\n",
    "from sklearn.metrics import accuracy_score, classification_report\n",
    "from pathlib import Path\n",
    "from PIL import Image\n"
   ]
  },
  {
   "cell_type": "markdown",
   "metadata": {},
   "source": [
    "read image file\n"
   ]
  },
  {
   "cell_type": "code",
   "execution_count": 2,
   "metadata": {},
   "outputs": [
    {
     "name": "stdout",
     "output_type": "stream",
     "text": [
      "Total Dataponits =  10160\n",
      "[0 0 0 ... 9 9 9]\n"
     ]
    }
   ],
   "source": [
    "data = os.listdir(r\"D:\\work\\y2-1\\linearProject\\dts\\Digits\")\n",
    "data_X = []\n",
    "data_y = []\n",
    "data_classes = len(data)\n",
    "for i in range(0, data_classes):\n",
    "    data_list = os.listdir(\n",
    "        r\"D:\\work\\y2-1\\linearProject\\dts\\Digits\" + \"/\"+str(i))\n",
    "    for j in data_list:\n",
    "        pic = cv2.imread(\n",
    "            r\"D:\\work\\y2-1\\linearProject\\dts\\Digits\" + \"/\"+str(i)+\"/\"+j)\n",
    "        pic = cv2.resize(pic, (32, 32))\n",
    "        data_X.append(pic)  # img 0-9\n",
    "        data_y.append(i)  # number 0-9\n",
    "\n",
    "if len(data_X) == len(data_y):\n",
    "    print(\"Total Dataponits = \", len(data_X))\n",
    "\n",
    "# Labels and images\n",
    "data_X = np.array(data_X)\n",
    "data_y = np.array(data_y)\n",
    "\n",
    "print(data_y)\n"
   ]
  },
  {
   "cell_type": "markdown",
   "metadata": {},
   "source": [
    "split x -> trainX ,testX & split y -> trainY ,testY\n"
   ]
  },
  {
   "cell_type": "code",
   "execution_count": 3,
   "metadata": {},
   "outputs": [
    {
     "name": "stdout",
     "output_type": "stream",
     "text": [
      "Training Set Shape =  (7721, 32, 32, 3)\n",
      "Validation Set Shape =  (1931, 32, 32, 3)\n",
      "Test Set Shape =  (508, 32, 32, 3)\n"
     ]
    }
   ],
   "source": [
    "train_X, test_X, train_y, test_y = train_test_split(\n",
    "    data_X, data_y, test_size=0.05)\n",
    "train_X, valid_X, train_y, valid_y = train_test_split(\n",
    "    train_X, train_y, test_size=0.2)\n",
    "print(\"Training Set Shape = \", train_X.shape)\n",
    "print(\"Validation Set Shape = \", valid_X.shape)\n",
    "print(\"Test Set Shape = \", test_X.shape)\n"
   ]
  },
  {
   "cell_type": "code",
   "execution_count": 4,
   "metadata": {},
   "outputs": [],
   "source": [
    "# Preprocessing the images for neuralnet\n",
    "def Prep(img):\n",
    "    img = cv2.cvtColor(img, cv2.COLOR_BGR2GRAY)  # making image grayscale\n",
    "    img = cv2.equalizeHist(img)  # Histogram equalization to enhance contrast\n",
    "    img = img/255  # normalizing\n",
    "    return img\n",
    "\n",
    "\n",
    "train_X = np.array(list(map(Prep, train_X)))\n",
    "test_X = np.array(list(map(Prep, test_X)))\n",
    "valid_X = np.array(list(map(Prep, valid_X)))\n",
    "\n",
    "\n",
    "# Reshaping the images\n",
    "train_X = train_X.reshape(\n",
    "    train_X.shape[0], train_X.shape[1], train_X.shape[2], 1)\n",
    "test_X = test_X.reshape(test_X.shape[0], test_X.shape[1], test_X.shape[2], 1)\n",
    "valid_X = valid_X.reshape(\n",
    "    valid_X.shape[0], valid_X.shape[1], valid_X.shape[2], 1)\n",
    "\n",
    "# Augmentation\n",
    "datagen = ImageDataGenerator(width_shift_range=0.1, height_shift_range=0.1,\n",
    "                             zoom_range=0.2, shear_range=0.1, rotation_range=10)  # random generate img data\n",
    "datagen.fit(train_X)  # trian datagen with train_X\n"
   ]
  },
  {
   "cell_type": "code",
   "execution_count": 5,
   "metadata": {},
   "outputs": [],
   "source": [
    "# to_categorical is function for Converts a class vector (integers) to binary class matrix.\n",
    "train_y = to_categorical(train_y, data_classes)\n",
    "test_y = to_categorical(test_y, data_classes)\n",
    "valid_y = to_categorical(valid_y, data_classes)\n"
   ]
  },
  {
   "cell_type": "markdown",
   "metadata": {},
   "source": [
    "Model Building (Nueral Net)\n"
   ]
  },
  {
   "cell_type": "code",
   "execution_count": 6,
   "metadata": {},
   "outputs": [
    {
     "name": "stdout",
     "output_type": "stream",
     "text": [
      "Model: \"sequential\"\n",
      "_________________________________________________________________\n",
      " Layer (type)                Output Shape              Param #   \n",
      "=================================================================\n",
      " conv2d (Conv2D)             (None, 32, 32, 60)        1560      \n",
      "                                                                 \n",
      " conv2d_1 (Conv2D)           (None, 32, 32, 60)        90060     \n",
      "                                                                 \n",
      " max_pooling2d (MaxPooling2D  (None, 16, 16, 60)       0         \n",
      " )                                                               \n",
      "                                                                 \n",
      " conv2d_2 (Conv2D)           (None, 16, 16, 30)        16230     \n",
      "                                                                 \n",
      " conv2d_3 (Conv2D)           (None, 16, 16, 30)        8130      \n",
      "                                                                 \n",
      " max_pooling2d_1 (MaxPooling  (None, 8, 8, 30)         0         \n",
      " 2D)                                                             \n",
      "                                                                 \n",
      " dropout (Dropout)           (None, 8, 8, 30)          0         \n",
      "                                                                 \n",
      " flatten (Flatten)           (None, 1920)              0         \n",
      "                                                                 \n",
      " dense (Dense)               (None, 500)               960500    \n",
      "                                                                 \n",
      " dropout_1 (Dropout)         (None, 500)               0         \n",
      "                                                                 \n",
      " dense_1 (Dense)             (None, 10)                5010      \n",
      "                                                                 \n",
      "=================================================================\n",
      "Total params: 1,081,490\n",
      "Trainable params: 1,081,490\n",
      "Non-trainable params: 0\n",
      "_________________________________________________________________\n"
     ]
    }
   ],
   "source": [
    "# Creating a Neural Network\n",
    "model = Sequential()\n",
    "\n",
    "model.add((Conv2D(60, (5, 5), input_shape=(32, 32, 1),\n",
    "          padding='Same', activation='relu')))\n",
    "model.add((Conv2D(60, (5, 5), padding=\"same\", activation='relu')))\n",
    "model.add(MaxPooling2D(pool_size=(2, 2)))\n",
    "# model.add(Dropout(0.25))\n",
    "\n",
    "model.add((Conv2D(30, (3, 3), padding=\"same\", activation='relu')))\n",
    "model.add((Conv2D(30, (3, 3), padding=\"same\", activation='relu')))\n",
    "model.add(MaxPooling2D(pool_size=(2, 2), strides=(2, 2)))\n",
    "model.add(Dropout(0.5))\n",
    "\n",
    "model.add(Flatten())\n",
    "model.add(Dense(500, activation='relu'))\n",
    "model.add(Dropout(0.5))\n",
    "model.add(Dense(10, activation='softmax'))\n",
    "\n",
    "model.summary()\n"
   ]
  },
  {
   "cell_type": "code",
   "execution_count": 9,
   "metadata": {},
   "outputs": [
    {
     "name": "stdout",
     "output_type": "stream",
     "text": [
      "Epoch 1/100\n",
      "200/200 - 43s - loss: 0.6898 - accuracy: 0.7706 - val_loss: 0.0687 - val_accuracy: 0.9762 - 43s/epoch - 217ms/step\n",
      "Epoch 2/100\n",
      "200/200 - 42s - loss: 0.2410 - accuracy: 0.9233 - val_loss: 0.0593 - val_accuracy: 0.9819 - 42s/epoch - 209ms/step\n",
      "Epoch 3/100\n",
      "200/200 - 44s - loss: 0.1756 - accuracy: 0.9457 - val_loss: 0.0406 - val_accuracy: 0.9850 - 44s/epoch - 218ms/step\n",
      "Epoch 4/100\n",
      "200/200 - 44s - loss: 0.1356 - accuracy: 0.9600 - val_loss: 0.0308 - val_accuracy: 0.9907 - 44s/epoch - 221ms/step\n",
      "Epoch 5/100\n",
      "200/200 - 43s - loss: 0.1233 - accuracy: 0.9628 - val_loss: 0.0281 - val_accuracy: 0.9922 - 43s/epoch - 215ms/step\n",
      "Epoch 6/100\n",
      "200/200 - 41s - loss: 0.1069 - accuracy: 0.9674 - val_loss: 0.0313 - val_accuracy: 0.9896 - 41s/epoch - 207ms/step\n",
      "Epoch 7/100\n",
      "200/200 - 42s - loss: 0.1028 - accuracy: 0.9680 - val_loss: 0.0292 - val_accuracy: 0.9891 - 42s/epoch - 208ms/step\n",
      "Epoch 8/100\n",
      "200/200 - 41s - loss: 0.0997 - accuracy: 0.9716 - val_loss: 0.0207 - val_accuracy: 0.9922 - 41s/epoch - 206ms/step\n",
      "Epoch 9/100\n",
      "200/200 - 42s - loss: 0.0867 - accuracy: 0.9737 - val_loss: 0.0210 - val_accuracy: 0.9917 - 42s/epoch - 209ms/step\n",
      "Epoch 10/100\n",
      "200/200 - 44s - loss: 0.0826 - accuracy: 0.9748 - val_loss: 0.0428 - val_accuracy: 0.9876 - 44s/epoch - 222ms/step\n",
      "Epoch 11/100\n",
      "200/200 - 44s - loss: 0.0869 - accuracy: 0.9749 - val_loss: 0.0361 - val_accuracy: 0.9886 - 44s/epoch - 219ms/step\n",
      "Epoch 12/100\n",
      "200/200 - 44s - loss: 0.0847 - accuracy: 0.9759 - val_loss: 0.0335 - val_accuracy: 0.9886 - 44s/epoch - 220ms/step\n",
      "Epoch 13/100\n",
      "200/200 - 44s - loss: 0.0850 - accuracy: 0.9755 - val_loss: 0.0232 - val_accuracy: 0.9927 - 44s/epoch - 219ms/step\n",
      "Epoch 14/100\n",
      "200/200 - 44s - loss: 0.0828 - accuracy: 0.9773 - val_loss: 0.0300 - val_accuracy: 0.9902 - 44s/epoch - 219ms/step\n",
      "Epoch 15/100\n",
      "200/200 - 44s - loss: 0.0776 - accuracy: 0.9780 - val_loss: 0.0165 - val_accuracy: 0.9938 - 44s/epoch - 218ms/step\n",
      "Epoch 16/100\n",
      "200/200 - 43s - loss: 0.0776 - accuracy: 0.9769 - val_loss: 0.0159 - val_accuracy: 0.9938 - 43s/epoch - 216ms/step\n",
      "Epoch 17/100\n",
      "200/200 - 43s - loss: 0.0761 - accuracy: 0.9794 - val_loss: 0.0373 - val_accuracy: 0.9881 - 43s/epoch - 215ms/step\n",
      "Epoch 18/100\n",
      "200/200 - 43s - loss: 0.0754 - accuracy: 0.9799 - val_loss: 0.0174 - val_accuracy: 0.9927 - 43s/epoch - 216ms/step\n",
      "Epoch 19/100\n",
      "200/200 - 44s - loss: 0.0708 - accuracy: 0.9802 - val_loss: 0.0299 - val_accuracy: 0.9907 - 44s/epoch - 218ms/step\n",
      "Epoch 20/100\n",
      "200/200 - 44s - loss: 0.0767 - accuracy: 0.9790 - val_loss: 0.0336 - val_accuracy: 0.9891 - 44s/epoch - 218ms/step\n",
      "Epoch 21/100\n",
      "200/200 - 43s - loss: 0.0756 - accuracy: 0.9804 - val_loss: 0.0528 - val_accuracy: 0.9907 - 43s/epoch - 215ms/step\n",
      "Epoch 22/100\n",
      "200/200 - 43s - loss: 0.0745 - accuracy: 0.9801 - val_loss: 0.0184 - val_accuracy: 0.9948 - 43s/epoch - 213ms/step\n",
      "Epoch 23/100\n",
      "200/200 - 43s - loss: 0.0700 - accuracy: 0.9796 - val_loss: 0.0327 - val_accuracy: 0.9902 - 43s/epoch - 214ms/step\n",
      "Epoch 24/100\n",
      "200/200 - 43s - loss: 0.0703 - accuracy: 0.9774 - val_loss: 0.0260 - val_accuracy: 0.9927 - 43s/epoch - 217ms/step\n",
      "Epoch 25/100\n",
      "200/200 - 44s - loss: 0.0737 - accuracy: 0.9807 - val_loss: 0.0198 - val_accuracy: 0.9927 - 44s/epoch - 218ms/step\n",
      "Epoch 26/100\n",
      "200/200 - 44s - loss: 0.0705 - accuracy: 0.9801 - val_loss: 0.0338 - val_accuracy: 0.9927 - 44s/epoch - 218ms/step\n",
      "Epoch 27/100\n",
      "200/200 - 44s - loss: 0.0685 - accuracy: 0.9817 - val_loss: 0.0273 - val_accuracy: 0.9927 - 44s/epoch - 218ms/step\n",
      "Epoch 28/100\n",
      "200/200 - 41s - loss: 0.0793 - accuracy: 0.9818 - val_loss: 0.0118 - val_accuracy: 0.9953 - 41s/epoch - 203ms/step\n",
      "Epoch 29/100\n",
      "200/200 - 40s - loss: 0.0674 - accuracy: 0.9832 - val_loss: 0.0169 - val_accuracy: 0.9943 - 40s/epoch - 202ms/step\n",
      "Epoch 30/100\n",
      "200/200 - 40s - loss: 0.0728 - accuracy: 0.9821 - val_loss: 0.0146 - val_accuracy: 0.9959 - 40s/epoch - 200ms/step\n",
      "Epoch 31/100\n",
      "200/200 - 40s - loss: 0.0675 - accuracy: 0.9831 - val_loss: 0.0147 - val_accuracy: 0.9927 - 40s/epoch - 201ms/step\n",
      "Epoch 32/100\n",
      "200/200 - 40s - loss: 0.0719 - accuracy: 0.9838 - val_loss: 0.0157 - val_accuracy: 0.9943 - 40s/epoch - 202ms/step\n",
      "Epoch 33/100\n",
      "200/200 - 40s - loss: 0.0778 - accuracy: 0.9798 - val_loss: 0.0181 - val_accuracy: 0.9953 - 40s/epoch - 201ms/step\n",
      "Epoch 34/100\n",
      "200/200 - 40s - loss: 0.0657 - accuracy: 0.9829 - val_loss: 0.0167 - val_accuracy: 0.9964 - 40s/epoch - 201ms/step\n",
      "Epoch 35/100\n",
      "200/200 - 41s - loss: 0.0672 - accuracy: 0.9838 - val_loss: 0.0203 - val_accuracy: 0.9948 - 41s/epoch - 203ms/step\n",
      "Epoch 36/100\n",
      "200/200 - 40s - loss: 0.0673 - accuracy: 0.9826 - val_loss: 0.0195 - val_accuracy: 0.9943 - 40s/epoch - 198ms/step\n",
      "Epoch 37/100\n",
      "200/200 - 42s - loss: 0.0882 - accuracy: 0.9795 - val_loss: 0.0107 - val_accuracy: 0.9964 - 42s/epoch - 208ms/step\n",
      "Epoch 38/100\n",
      "200/200 - 39s - loss: 0.0695 - accuracy: 0.9851 - val_loss: 0.0313 - val_accuracy: 0.9927 - 39s/epoch - 197ms/step\n",
      "Epoch 39/100\n",
      "200/200 - 39s - loss: 0.0716 - accuracy: 0.9828 - val_loss: 0.0165 - val_accuracy: 0.9938 - 39s/epoch - 197ms/step\n",
      "Epoch 40/100\n",
      "200/200 - 40s - loss: 0.0671 - accuracy: 0.9810 - val_loss: 0.0117 - val_accuracy: 0.9948 - 40s/epoch - 202ms/step\n",
      "Epoch 41/100\n",
      "200/200 - 42s - loss: 0.0829 - accuracy: 0.9810 - val_loss: 0.0245 - val_accuracy: 0.9912 - 42s/epoch - 212ms/step\n",
      "Epoch 42/100\n",
      "200/200 - 42s - loss: 0.0620 - accuracy: 0.9826 - val_loss: 0.0158 - val_accuracy: 0.9943 - 42s/epoch - 209ms/step\n",
      "Epoch 43/100\n",
      "200/200 - 42s - loss: 0.0800 - accuracy: 0.9820 - val_loss: 0.0263 - val_accuracy: 0.9933 - 42s/epoch - 208ms/step\n",
      "Epoch 44/100\n",
      "200/200 - 42s - loss: 0.0877 - accuracy: 0.9823 - val_loss: 0.0215 - val_accuracy: 0.9959 - 42s/epoch - 208ms/step\n",
      "Epoch 45/100\n",
      "200/200 - 42s - loss: 0.0691 - accuracy: 0.9836 - val_loss: 0.0234 - val_accuracy: 0.9938 - 42s/epoch - 208ms/step\n",
      "Epoch 46/100\n",
      "200/200 - 42s - loss: 0.0725 - accuracy: 0.9854 - val_loss: 0.0182 - val_accuracy: 0.9964 - 42s/epoch - 208ms/step\n",
      "Epoch 47/100\n",
      "200/200 - 42s - loss: 0.0702 - accuracy: 0.9821 - val_loss: 0.0132 - val_accuracy: 0.9964 - 42s/epoch - 210ms/step\n",
      "Epoch 48/100\n",
      "200/200 - 42s - loss: 0.0681 - accuracy: 0.9846 - val_loss: 0.0163 - val_accuracy: 0.9964 - 42s/epoch - 210ms/step\n",
      "Epoch 49/100\n",
      "200/200 - 42s - loss: 0.0883 - accuracy: 0.9802 - val_loss: 0.0189 - val_accuracy: 0.9943 - 42s/epoch - 209ms/step\n",
      "Epoch 50/100\n",
      "200/200 - 42s - loss: 0.0595 - accuracy: 0.9856 - val_loss: 0.0185 - val_accuracy: 0.9938 - 42s/epoch - 209ms/step\n",
      "Epoch 51/100\n",
      "200/200 - 42s - loss: 0.0649 - accuracy: 0.9842 - val_loss: 0.0231 - val_accuracy: 0.9943 - 42s/epoch - 210ms/step\n",
      "Epoch 52/100\n",
      "200/200 - 42s - loss: 0.0757 - accuracy: 0.9829 - val_loss: 0.0203 - val_accuracy: 0.9948 - 42s/epoch - 208ms/step\n",
      "Epoch 53/100\n",
      "200/200 - 42s - loss: 0.0732 - accuracy: 0.9848 - val_loss: 0.0134 - val_accuracy: 0.9948 - 42s/epoch - 210ms/step\n",
      "Epoch 54/100\n",
      "200/200 - 42s - loss: 0.0843 - accuracy: 0.9809 - val_loss: 0.0096 - val_accuracy: 0.9979 - 42s/epoch - 209ms/step\n",
      "Epoch 55/100\n",
      "200/200 - 42s - loss: 0.0634 - accuracy: 0.9853 - val_loss: 0.0053 - val_accuracy: 0.9969 - 42s/epoch - 210ms/step\n",
      "Epoch 56/100\n",
      "200/200 - 42s - loss: 0.0677 - accuracy: 0.9868 - val_loss: 0.0088 - val_accuracy: 0.9959 - 42s/epoch - 209ms/step\n",
      "Epoch 57/100\n",
      "200/200 - 42s - loss: 0.0747 - accuracy: 0.9829 - val_loss: 0.0250 - val_accuracy: 0.9907 - 42s/epoch - 210ms/step\n",
      "Epoch 58/100\n",
      "200/200 - 42s - loss: 0.0638 - accuracy: 0.9840 - val_loss: 0.0919 - val_accuracy: 0.9829 - 42s/epoch - 209ms/step\n",
      "Epoch 59/100\n",
      "200/200 - 42s - loss: 0.0862 - accuracy: 0.9832 - val_loss: 0.0279 - val_accuracy: 0.9948 - 42s/epoch - 208ms/step\n",
      "Epoch 60/100\n",
      "200/200 - 41s - loss: 0.0732 - accuracy: 0.9817 - val_loss: 0.0216 - val_accuracy: 0.9959 - 41s/epoch - 206ms/step\n",
      "Epoch 61/100\n",
      "200/200 - 41s - loss: 0.0644 - accuracy: 0.9856 - val_loss: 0.0108 - val_accuracy: 0.9964 - 41s/epoch - 206ms/step\n",
      "Epoch 62/100\n",
      "200/200 - 41s - loss: 0.0681 - accuracy: 0.9853 - val_loss: 0.0314 - val_accuracy: 0.9902 - 41s/epoch - 207ms/step\n",
      "Epoch 63/100\n",
      "200/200 - 42s - loss: 0.0842 - accuracy: 0.9815 - val_loss: 0.0135 - val_accuracy: 0.9959 - 42s/epoch - 212ms/step\n",
      "Epoch 64/100\n",
      "200/200 - 39s - loss: 0.0648 - accuracy: 0.9842 - val_loss: 0.0206 - val_accuracy: 0.9938 - 39s/epoch - 195ms/step\n",
      "Epoch 65/100\n",
      "200/200 - 40s - loss: 0.0738 - accuracy: 0.9846 - val_loss: 0.0469 - val_accuracy: 0.9933 - 40s/epoch - 198ms/step\n",
      "Epoch 66/100\n",
      "200/200 - 39s - loss: 0.0943 - accuracy: 0.9838 - val_loss: 0.0340 - val_accuracy: 0.9948 - 39s/epoch - 196ms/step\n",
      "Epoch 67/100\n",
      "200/200 - 39s - loss: 0.0773 - accuracy: 0.9845 - val_loss: 0.0462 - val_accuracy: 0.9902 - 39s/epoch - 196ms/step\n",
      "Epoch 68/100\n",
      "200/200 - 39s - loss: 0.0792 - accuracy: 0.9812 - val_loss: 0.0417 - val_accuracy: 0.9922 - 39s/epoch - 196ms/step\n",
      "Epoch 69/100\n",
      "200/200 - 39s - loss: 0.0790 - accuracy: 0.9824 - val_loss: 0.0091 - val_accuracy: 0.9969 - 39s/epoch - 196ms/step\n",
      "Epoch 70/100\n",
      "200/200 - 39s - loss: 0.1031 - accuracy: 0.9806 - val_loss: 0.0154 - val_accuracy: 0.9943 - 39s/epoch - 196ms/step\n",
      "Epoch 71/100\n",
      "200/200 - 40s - loss: 0.0675 - accuracy: 0.9846 - val_loss: 0.0291 - val_accuracy: 0.9953 - 40s/epoch - 198ms/step\n",
      "Epoch 72/100\n",
      "200/200 - 40s - loss: 0.0799 - accuracy: 0.9821 - val_loss: 0.0269 - val_accuracy: 0.9938 - 40s/epoch - 201ms/step\n",
      "Epoch 73/100\n",
      "200/200 - 39s - loss: 0.0759 - accuracy: 0.9853 - val_loss: 0.0124 - val_accuracy: 0.9964 - 39s/epoch - 194ms/step\n",
      "Epoch 74/100\n",
      "200/200 - 39s - loss: 0.0638 - accuracy: 0.9870 - val_loss: 0.0138 - val_accuracy: 0.9964 - 39s/epoch - 196ms/step\n",
      "Epoch 75/100\n",
      "200/200 - 39s - loss: 0.0719 - accuracy: 0.9870 - val_loss: 0.0330 - val_accuracy: 0.9922 - 39s/epoch - 195ms/step\n",
      "Epoch 76/100\n",
      "200/200 - 39s - loss: 0.0895 - accuracy: 0.9823 - val_loss: 0.0252 - val_accuracy: 0.9964 - 39s/epoch - 195ms/step\n",
      "Epoch 77/100\n",
      "200/200 - 39s - loss: 0.0870 - accuracy: 0.9845 - val_loss: 0.0344 - val_accuracy: 0.9959 - 39s/epoch - 196ms/step\n",
      "Epoch 78/100\n",
      "200/200 - 39s - loss: 0.0862 - accuracy: 0.9838 - val_loss: 0.0320 - val_accuracy: 0.9943 - 39s/epoch - 197ms/step\n",
      "Epoch 79/100\n",
      "200/200 - 40s - loss: 0.0957 - accuracy: 0.9803 - val_loss: 0.0223 - val_accuracy: 0.9943 - 40s/epoch - 200ms/step\n",
      "Epoch 80/100\n",
      "200/200 - 39s - loss: 0.0672 - accuracy: 0.9843 - val_loss: 0.0122 - val_accuracy: 0.9974 - 39s/epoch - 197ms/step\n",
      "Epoch 81/100\n",
      "200/200 - 39s - loss: 0.0650 - accuracy: 0.9859 - val_loss: 0.0323 - val_accuracy: 0.9943 - 39s/epoch - 195ms/step\n",
      "Epoch 82/100\n",
      "200/200 - 39s - loss: 0.0952 - accuracy: 0.9807 - val_loss: 0.0201 - val_accuracy: 0.9959 - 39s/epoch - 195ms/step\n",
      "Epoch 83/100\n",
      "200/200 - 40s - loss: 0.0656 - accuracy: 0.9847 - val_loss: 0.0229 - val_accuracy: 0.9964 - 40s/epoch - 198ms/step\n",
      "Epoch 84/100\n",
      "200/200 - 40s - loss: 0.0800 - accuracy: 0.9848 - val_loss: 0.0369 - val_accuracy: 0.9948 - 40s/epoch - 198ms/step\n",
      "Epoch 85/100\n",
      "200/200 - 41s - loss: 0.0922 - accuracy: 0.9848 - val_loss: 0.0157 - val_accuracy: 0.9959 - 41s/epoch - 207ms/step\n",
      "Epoch 86/100\n",
      "200/200 - 41s - loss: 0.0762 - accuracy: 0.9860 - val_loss: 0.0415 - val_accuracy: 0.9938 - 41s/epoch - 207ms/step\n",
      "Epoch 87/100\n",
      "200/200 - 41s - loss: 0.0811 - accuracy: 0.9860 - val_loss: 0.0166 - val_accuracy: 0.9964 - 41s/epoch - 206ms/step\n",
      "Epoch 88/100\n",
      "200/200 - 41s - loss: 0.0672 - accuracy: 0.9864 - val_loss: 0.0679 - val_accuracy: 0.9943 - 41s/epoch - 207ms/step\n",
      "Epoch 89/100\n",
      "200/200 - 42s - loss: 0.0868 - accuracy: 0.9840 - val_loss: 0.0320 - val_accuracy: 0.9927 - 42s/epoch - 209ms/step\n",
      "Epoch 90/100\n",
      "200/200 - 42s - loss: 0.1017 - accuracy: 0.9829 - val_loss: 0.0528 - val_accuracy: 0.9912 - 42s/epoch - 208ms/step\n",
      "Epoch 91/100\n",
      "200/200 - 41s - loss: 0.0856 - accuracy: 0.9854 - val_loss: 0.0172 - val_accuracy: 0.9943 - 41s/epoch - 207ms/step\n",
      "Epoch 92/100\n",
      "200/200 - 42s - loss: 0.0844 - accuracy: 0.9827 - val_loss: 0.0225 - val_accuracy: 0.9964 - 42s/epoch - 208ms/step\n",
      "Epoch 93/100\n",
      "200/200 - 41s - loss: 0.0809 - accuracy: 0.9832 - val_loss: 0.0331 - val_accuracy: 0.9953 - 41s/epoch - 207ms/step\n",
      "Epoch 94/100\n",
      "200/200 - 41s - loss: 0.0957 - accuracy: 0.9834 - val_loss: 0.0337 - val_accuracy: 0.9943 - 41s/epoch - 207ms/step\n",
      "Epoch 95/100\n",
      "200/200 - 42s - loss: 0.0929 - accuracy: 0.9845 - val_loss: 0.0362 - val_accuracy: 0.9927 - 42s/epoch - 209ms/step\n",
      "Epoch 96/100\n",
      "200/200 - 42s - loss: 0.0623 - accuracy: 0.9890 - val_loss: 0.0138 - val_accuracy: 0.9959 - 42s/epoch - 208ms/step\n",
      "Epoch 97/100\n",
      "200/200 - 42s - loss: 0.0744 - accuracy: 0.9847 - val_loss: 0.0371 - val_accuracy: 0.9948 - 42s/epoch - 209ms/step\n",
      "Epoch 98/100\n",
      "200/200 - 41s - loss: 0.0911 - accuracy: 0.9845 - val_loss: 0.0284 - val_accuracy: 0.9943 - 41s/epoch - 207ms/step\n",
      "Epoch 99/100\n",
      "200/200 - 42s - loss: 0.0849 - accuracy: 0.9834 - val_loss: 0.0605 - val_accuracy: 0.9927 - 42s/epoch - 208ms/step\n",
      "Epoch 100/100\n",
      "200/200 - 41s - loss: 0.1059 - accuracy: 0.9838 - val_loss: 0.0108 - val_accuracy: 0.9969 - 41s/epoch - 207ms/step\n"
     ]
    },
    {
     "name": "stderr",
     "output_type": "stream",
     "text": [
      "WARNING:absl:Found untraced functions such as _jit_compiled_convolution_op, _jit_compiled_convolution_op, _jit_compiled_convolution_op, _jit_compiled_convolution_op while saving (showing 4 of 4). These functions will not be directly callable after loading.\n"
     ]
    },
    {
     "name": "stdout",
     "output_type": "stream",
     "text": [
      "INFO:tensorflow:Assets written to: D:\\work\\y2-1\\linearProject\\model2\\assets\n"
     ]
    },
    {
     "name": "stderr",
     "output_type": "stream",
     "text": [
      "INFO:tensorflow:Assets written to: D:\\work\\y2-1\\linearProject\\model2\\assets\n"
     ]
    },
    {
     "name": "stdout",
     "output_type": "stream",
     "text": [
      "[0.008776502683758736, 0.9960629940032959]\n",
      "Test Score =  0.008776502683758736\n",
      "Test Accuracy = 0.9960629940032959\n"
     ]
    }
   ],
   "source": [
    "# Compiling the model\n",
    "\n",
    "optimizer = tf.keras.optimizers.legacy.RMSprop(\n",
    "    learning_rate=0.001, rho=0.9, epsilon=1e-08, decay=0.0)\n",
    "model.compile(optimizer=optimizer,\n",
    "              loss='categorical_crossentropy', metrics=['accuracy'])\n",
    "\n",
    "# Fit the model\n",
    "\n",
    "history = model.fit(datagen.flow(train_X, train_y, batch_size=32),\n",
    "                    epochs=100, validation_data=(valid_X, valid_y),\n",
    "                    verbose=2, steps_per_epoch=200)\n",
    "\n",
    "# Testing the model on the test set\n",
    "\n",
    "score = model.evaluate(test_X, test_y, verbose=0)\n",
    "model.save(r\"D:\\work\\y2-1\\linearProject\\model2\")\n",
    "print(score)\n",
    "print('Test Score = ', score[0])\n",
    "print('Test Accuracy =', score[1])\n"
   ]
  },
  {
   "cell_type": "markdown",
   "metadata": {},
   "source": [
    "Randomly select an image from the dataset\n"
   ]
  },
  {
   "cell_type": "code",
   "execution_count": 10,
   "metadata": {},
   "outputs": [],
   "source": [
    "\n",
    "def preprocess(image):\n",
    "    gray = cv2.cvtColor(image, cv2.COLOR_BGR2GRAY)\n",
    "    blur = cv2.GaussianBlur(gray, (3, 3), 6)\n",
    "    #blur = cv2.bilateralFilter(gray,9,75,75)\n",
    "    threshold_img = cv2.adaptiveThreshold(blur, 255, 1, 1, 11, 2)\n",
    "    return threshold_img\n"
   ]
  },
  {
   "cell_type": "code",
   "execution_count": 11,
   "metadata": {},
   "outputs": [],
   "source": [
    "def main_outline(contour):\n",
    "    biggest = np.array([])\n",
    "    max_area = 0\n",
    "    for i in contour:\n",
    "        area = cv2.contourArea(i)\n",
    "        if area > 50:\n",
    "            peri = cv2.arcLength(i, True)\n",
    "            approx = cv2.approxPolyDP(i, 0.02 * peri, True)\n",
    "            if area > max_area and len(approx) == 4:\n",
    "                biggest = approx\n",
    "                max_area = area\n",
    "    return biggest, max_area\n",
    "\n",
    "\n",
    "def reframe(points):\n",
    "    points = points.reshape((4, 2))\n",
    "    points_new = np.zeros((4, 1, 2), dtype=np.int32)\n",
    "    add = points.sum(1)\n",
    "    points_new[0] = points[np.argmin(add)]\n",
    "    points_new[3] = points[np.argmax(add)]\n",
    "    diff = np.diff(points, axis=1)\n",
    "    points_new[1] = points[np.argmin(diff)]\n",
    "    points_new[2] = points[np.argmax(diff)]\n",
    "    return points_new\n",
    "\n",
    "\n",
    "def splitcells(img):\n",
    "    rows = np.vsplit(img, 9)\n",
    "    boxes = []\n",
    "    for r in rows:\n",
    "        cols = np.hsplit(r, 9)\n",
    "        for box in cols:\n",
    "            boxes.append(box)\n",
    "    return boxes\n"
   ]
  },
  {
   "cell_type": "markdown",
   "metadata": {},
   "source": [
    "INPUT\n"
   ]
  },
  {
   "cell_type": "code",
   "execution_count": 12,
   "metadata": {},
   "outputs": [
    {
     "data": {
      "image/png": "[encoded data removed]",
      "text/plain": [
       "<Figure size 432x288 with 1 Axes>"
      ]
     },
     "metadata": {
      "needs_background": "light"
     },
     "output_type": "display_data"
    }
   ],
   "source": [
    "# Importing puzzle to be solved\n",
    "try:\n",
    "    puzzle = cv2.imread(r\"D:\\work\\y2-1\\linearProject\\dts\\test\\su.jpg\")\n",
    "    plt.figure()\n",
    "    plt.imshow(puzzle)\n",
    "    plt.show()\n",
    "except:\n",
    "    print('Not found image')\n",
    "    # let's see what we got\n"
   ]
  },
  {
   "cell_type": "code",
   "execution_count": 13,
   "metadata": {},
   "outputs": [
    {
     "data": {
      "image/png": "[encoded data removed]",
      "text/plain": [
       "<Figure size 432x288 with 1 Axes>"
      ]
     },
     "metadata": {
      "needs_background": "light"
     },
     "output_type": "display_data"
    }
   ],
   "source": [
    "# Resizing puzzle to be solved\n",
    "puzzle = cv2.resize(puzzle, (450, 450))\n",
    "# Preprocessing Puzzle\n",
    "su_puzzle = preprocess(puzzle)\n",
    "\n",
    "# Finding the outline of the sudoku puzzle in the image\n",
    "su_contour_1 = su_puzzle.copy()\n",
    "su_contour_2 = su_puzzle.copy()\n",
    "su_contour, hierarchy = cv2.findContours(\n",
    "    su_puzzle, cv2.RETR_EXTERNAL, cv2.CHAIN_APPROX_SIMPLE)\n",
    "cv2.drawContours(su_contour_1, su_contour, -1, (0, 255, 0), 3)\n",
    "\n",
    "black_img = np.zeros((450, 450, 3), np.uint8)\n",
    "su_biggest, su_maxArea = main_outline(su_contour)\n",
    "if su_biggest.size != 0:\n",
    "    su_biggest = reframe(su_biggest)\n",
    "    cv2.drawContours(su_contour_2, su_biggest, -1, (0, 255, 0), 10)\n",
    "    su_pts1 = np.float32(su_biggest)\n",
    "    su_pts2 = np.float32([[0, 0], [450, 0], [0, 450], [450, 450]])\n",
    "    su_matrix = cv2.getPerspectiveTransform(su_pts1, su_pts2)\n",
    "    su_imagewrap = cv2.warpPerspective(puzzle, su_matrix, (450, 450))\n",
    "    su_imagewrap = cv2.cvtColor(su_imagewrap, cv2.COLOR_BGR2GRAY)\n",
    "\n",
    "plt.figure()\n",
    "plt.imshow(su_imagewrap)\n",
    "plt.show()\n"
   ]
  },
  {
   "cell_type": "code",
   "execution_count": 14,
   "metadata": {},
   "outputs": [
    {
     "data": {
      "image/png": "[encoded data removed]",
      "text/plain": [
       "<Figure size 432x288 with 1 Axes>"
      ]
     },
     "metadata": {
      "needs_background": "light"
     },
     "output_type": "display_data"
    }
   ],
   "source": [
    "sudoku_cell = splitcells(su_imagewrap)\n",
    "# Let's have alook at the last cell\n",
    "plt.figure()\n",
    "plt.imshow(sudoku_cell[58])\n",
    "plt.show()\n"
   ]
  },
  {
   "cell_type": "code",
   "execution_count": 15,
   "metadata": {},
   "outputs": [
    {
     "data": {
      "image/png": "[encoded data removed]",
      "text/plain": [
       "<Figure size 432x288 with 1 Axes>"
      ]
     },
     "metadata": {
      "needs_background": "light"
     },
     "output_type": "display_data"
    }
   ],
   "source": [
    "# The sudoku_cell's output includes the boundaries this could lead to misclassifications by the model\n",
    "# I am cropping the cells to avoid that\n",
    "# sneeking in a bit of PIL lib as cv2 was giving some weird error that i couldn't ward off\n",
    "\n",
    "def CropCell(cells):\n",
    "    Cells_croped = []\n",
    "    for image in cells:\n",
    "\n",
    "        img = np.array(image)\n",
    "        img = img[4:46, 6:46]\n",
    "        img = Image.fromarray(img)\n",
    "        Cells_croped.append(img)\n",
    "\n",
    "    return Cells_croped\n",
    "\n",
    "\n",
    "sudoku_cell_croped = CropCell(sudoku_cell)\n",
    "# Let's have alook at the last cell\n",
    "plt.figure()\n",
    "plt.imshow(sudoku_cell_croped[58])\n",
    "plt.show()\n"
   ]
  },
  {
   "cell_type": "code",
   "execution_count": 54,
   "metadata": {},
   "outputs": [
    {
     "name": "stdout",
     "output_type": "stream",
     "text": [
      "1/1 [==============================] - 0s 23ms/step\n",
      "1/1 [==============================] - 0s 18ms/step\n",
      "1/1 [==============================] - 0s 22ms/step\n",
      "1/1 [==============================] - 0s 22ms/step\n",
      "1/1 [==============================] - 0s 22ms/step\n",
      "1/1 [==============================] - 0s 21ms/step\n",
      "1/1 [==============================] - 0s 20ms/step\n",
      "1/1 [==============================] - 0s 21ms/step\n",
      "1/1 [==============================] - 0s 19ms/step\n",
      "1/1 [==============================] - 0s 26ms/step\n",
      "1/1 [==============================] - 0s 29ms/step\n",
      "1/1 [==============================] - 0s 24ms/step\n",
      "1/1 [==============================] - 0s 25ms/step\n",
      "1/1 [==============================] - 0s 27ms/step\n",
      "1/1 [==============================] - 0s 27ms/step\n",
      "1/1 [==============================] - 0s 26ms/step\n",
      "1/1 [==============================] - 0s 24ms/step\n",
      "1/1 [==============================] - 0s 27ms/step\n",
      "1/1 [==============================] - 0s 26ms/step\n",
      "1/1 [==============================] - 0s 26ms/step\n",
      "1/1 [==============================] - 0s 27ms/step\n",
      "1/1 [==============================] - 0s 26ms/step\n",
      "1/1 [==============================] - 0s 25ms/step\n",
      "1/1 [==============================] - 0s 24ms/step\n",
      "1/1 [==============================] - 0s 25ms/step\n",
      "1/1 [==============================] - 0s 28ms/step\n",
      "1/1 [==============================] - 0s 27ms/step\n",
      "1/1 [==============================] - 0s 26ms/step\n",
      "1/1 [==============================] - 0s 26ms/step\n",
      "1/1 [==============================] - 0s 22ms/step\n",
      "1/1 [==============================] - 0s 24ms/step\n",
      "1/1 [==============================] - 0s 23ms/step\n",
      "1/1 [==============================] - 0s 21ms/step\n",
      "1/1 [==============================] - 0s 19ms/step\n",
      "1/1 [==============================] - 0s 22ms/step\n",
      "1/1 [==============================] - 0s 21ms/step\n",
      "1/1 [==============================] - 0s 19ms/step\n",
      "1/1 [==============================] - 0s 21ms/step\n",
      "1/1 [==============================] - 0s 25ms/step\n",
      "1/1 [==============================] - 0s 30ms/step\n",
      "1/1 [==============================] - 0s 21ms/step\n",
      "1/1 [==============================] - 0s 21ms/step\n",
      "1/1 [==============================] - 0s 21ms/step\n",
      "1/1 [==============================] - 0s 23ms/step\n",
      "1/1 [==============================] - 0s 18ms/step\n",
      "1/1 [==============================] - 0s 23ms/step\n",
      "1/1 [==============================] - 0s 23ms/step\n",
      "1/1 [==============================] - 0s 24ms/step\n",
      "1/1 [==============================] - 0s 24ms/step\n",
      "1/1 [==============================] - 0s 26ms/step\n",
      "1/1 [==============================] - 0s 21ms/step\n",
      "1/1 [==============================] - 0s 19ms/step\n",
      "1/1 [==============================] - 0s 20ms/step\n",
      "1/1 [==============================] - 0s 20ms/step\n",
      "1/1 [==============================] - 0s 19ms/step\n",
      "1/1 [==============================] - 0s 19ms/step\n",
      "1/1 [==============================] - 0s 21ms/step\n",
      "1/1 [==============================] - 0s 18ms/step\n",
      "1/1 [==============================] - 0s 24ms/step\n",
      "1/1 [==============================] - 0s 19ms/step\n",
      "1/1 [==============================] - 0s 20ms/step\n",
      "1/1 [==============================] - 0s 20ms/step\n",
      "1/1 [==============================] - 0s 20ms/step\n",
      "1/1 [==============================] - 0s 20ms/step\n",
      "1/1 [==============================] - 0s 29ms/step\n",
      "1/1 [==============================] - 0s 22ms/step\n",
      "1/1 [==============================] - 0s 20ms/step\n",
      "1/1 [==============================] - 0s 19ms/step\n",
      "1/1 [==============================] - 0s 21ms/step\n",
      "1/1 [==============================] - 0s 23ms/step\n",
      "1/1 [==============================] - 0s 24ms/step\n",
      "1/1 [==============================] - 0s 21ms/step\n",
      "1/1 [==============================] - 0s 20ms/step\n",
      "1/1 [==============================] - 0s 19ms/step\n",
      "1/1 [==============================] - 0s 20ms/step\n",
      "1/1 [==============================] - 0s 21ms/step\n",
      "1/1 [==============================] - 0s 19ms/step\n",
      "1/1 [==============================] - 0s 23ms/step\n",
      "1/1 [==============================] - 0s 19ms/step\n",
      "1/1 [==============================] - 0s 18ms/step\n",
      "1/1 [==============================] - 0s 19ms/step\n",
      "1/1 [==============================] - 0s 19ms/step\n",
      "1/1 [==============================] - 0s 19ms/step\n",
      "1/1 [==============================] - 0s 21ms/step\n",
      "1/1 [==============================] - 0s 18ms/step\n",
      "1/1 [==============================] - 0s 23ms/step\n",
      "1/1 [==============================] - 0s 20ms/step\n",
      "1/1 [==============================] - 0s 23ms/step\n",
      "1/1 [==============================] - 0s 23ms/step\n",
      "1/1 [==============================] - 0s 21ms/step\n",
      "1/1 [==============================] - 0s 19ms/step\n",
      "1/1 [==============================] - 0s 20ms/step\n",
      "1/1 [==============================] - 0s 20ms/step\n",
      "1/1 [==============================] - 0s 20ms/step\n",
      "1/1 [==============================] - 0s 30ms/step\n",
      "1/1 [==============================] - 0s 20ms/step\n",
      "1/1 [==============================] - 0s 19ms/step\n",
      "1/1 [==============================] - 0s 20ms/step\n",
      "1/1 [==============================] - 0s 20ms/step\n",
      "1/1 [==============================] - 0s 19ms/step\n",
      "1/1 [==============================] - 0s 20ms/step\n",
      "1/1 [==============================] - 0s 21ms/step\n",
      "1/1 [==============================] - 0s 20ms/step\n",
      "1/1 [==============================] - 0s 20ms/step\n",
      "1/1 [==============================] - 0s 20ms/step\n",
      "1/1 [==============================] - 0s 23ms/step\n",
      "1/1 [==============================] - 0s 23ms/step\n",
      "1/1 [==============================] - 0s 19ms/step\n",
      "1/1 [==============================] - 0s 20ms/step\n",
      "1/1 [==============================] - 0s 21ms/step\n",
      "1/1 [==============================] - 0s 21ms/step\n",
      "1/1 [==============================] - 0s 21ms/step\n",
      "1/1 [==============================] - 0s 22ms/step\n",
      "1/1 [==============================] - 0s 20ms/step\n",
      "1/1 [==============================] - 0s 20ms/step\n",
      "1/1 [==============================] - 0s 19ms/step\n",
      "1/1 [==============================] - 0s 21ms/step\n",
      "1/1 [==============================] - 0s 20ms/step\n",
      "1/1 [==============================] - 0s 22ms/step\n",
      "1/1 [==============================] - 0s 20ms/step\n",
      "1/1 [==============================] - 0s 20ms/step\n",
      "1/1 [==============================] - 0s 19ms/step\n",
      "1/1 [==============================] - 0s 21ms/step\n",
      "1/1 [==============================] - 0s 20ms/step\n",
      "1/1 [==============================] - 0s 20ms/step\n",
      "1/1 [==============================] - 0s 18ms/step\n",
      "1/1 [==============================] - 0s 19ms/step\n",
      "1/1 [==============================] - 0s 20ms/step\n",
      "1/1 [==============================] - 0s 20ms/step\n",
      "1/1 [==============================] - 0s 21ms/step\n",
      "1/1 [==============================] - 0s 19ms/step\n",
      "1/1 [==============================] - 0s 20ms/step\n",
      "1/1 [==============================] - 0s 19ms/step\n",
      "1/1 [==============================] - 0s 20ms/step\n",
      "1/1 [==============================] - 0s 20ms/step\n",
      "1/1 [==============================] - 0s 20ms/step\n",
      "1/1 [==============================] - 0s 18ms/step\n",
      "1/1 [==============================] - 0s 20ms/step\n",
      "1/1 [==============================] - 0s 20ms/step\n",
      "1/1 [==============================] - 0s 19ms/step\n",
      "1/1 [==============================] - 0s 20ms/step\n",
      "1/1 [==============================] - 0s 20ms/step\n",
      "1/1 [==============================] - 0s 19ms/step\n",
      "1/1 [==============================] - 0s 19ms/step\n",
      "1/1 [==============================] - 0s 21ms/step\n",
      "1/1 [==============================] - 0s 25ms/step\n",
      "1/1 [==============================] - 0s 21ms/step\n",
      "1/1 [==============================] - 0s 22ms/step\n",
      "1/1 [==============================] - 0s 18ms/step\n",
      "1/1 [==============================] - 0s 27ms/step\n",
      "1/1 [==============================] - 0s 21ms/step\n",
      "1/1 [==============================] - 0s 21ms/step\n",
      "1/1 [==============================] - 0s 23ms/step\n",
      "1/1 [==============================] - 0s 25ms/step\n",
      "1/1 [==============================] - 0s 25ms/step\n",
      "1/1 [==============================] - 0s 25ms/step\n",
      "1/1 [==============================] - 0s 25ms/step\n",
      "1/1 [==============================] - 0s 31ms/step\n",
      "1/1 [==============================] - 0s 33ms/step\n",
      "1/1 [==============================] - 0s 31ms/step\n",
      "1/1 [==============================] - 0s 27ms/step\n",
      "1/1 [==============================] - 0s 25ms/step\n",
      "[3, 8, 0, 9, 0, 0, 2, 0, 5, 0, 0, 0, 0, 0, 8, 7, 3, 0, 0, 6, 0, 3, 0, 0, 9, 8, 0, 0, 0, 0, 0, 0, 3, 5, 0, 1, 9, 1, 0, 5, 0, 7, 0, 2, 3, 7, 0, 3, 1, 0, 0, 0, 0, 0, 0, 3, 5, 0, 0, 1, 0, 9, 0, 0, 7, 4, 6, 0, 0, 0, 0, 0, 8, 0, 1, 0, 0, 2, 0, 6, 7]\n",
      "[3 8 0 9 0 0 2 0 5 0 0 0 0 0 8 7 3 0 0 6 0 3 0 0 9 8 0 0 0 0 0 0 3 5 0 1 9\n",
      " 1 0 5 0 7 0 2 3 7 0 3 1 0 0 0 0 0 0 3 5 0 0 1 0 9 0 0 7 4 6 0 0 0 0 0 8 0\n",
      " 1 0 0 2 0 6 7]\n"
     ]
    }
   ],
   "source": [
    "def read_cells(cell, model):\n",
    "\n",
    "    result = []\n",
    "    for image in cell:\n",
    "        # preprocess the image as it was in the model\n",
    "        img = np.asarray(image)\n",
    "        img = img[4:img.shape[0] - 4, 4:img.shape[1] - 4]\n",
    "        img = cv2.resize(img, (32, 32))\n",
    "        img = img / 255\n",
    "        img = img.reshape(1, 32, 32, 1)\n",
    "        # getting predictions and setting the values if probabilities are above 65%\n",
    "\n",
    "        predictions = model.predict(img)\n",
    "        # classIndex = model.predict_classes(img)\n",
    "        predict_x = model.predict(img)\n",
    "        classIndex = np.argmax(predict_x, axis=-1)\n",
    "        probabilityValue = np.amax(predictions)\n",
    "\n",
    "        if probabilityValue > 0.65:\n",
    "            result.append(classIndex[0])\n",
    "        else:\n",
    "            result.append(0)\n",
    "    return result\n",
    "\n",
    "\n",
    "grid = read_cells(sudoku_cell_croped, model)\n",
    "print(grid)\n",
    "grid = np.asarray(grid)\n",
    "print(grid)\n"
   ]
  },
  {
   "cell_type": "code",
   "execution_count": 55,
   "metadata": {},
   "outputs": [
    {
     "data": {
      "text/plain": [
       "array([[3, 8, 0, 9, 0, 0, 2, 0, 5],\n",
       "       [0, 0, 0, 0, 0, 8, 7, 3, 0],\n",
       "       [0, 6, 0, 3, 0, 0, 9, 8, 0],\n",
       "       [0, 0, 0, 0, 0, 3, 5, 0, 1],\n",
       "       [9, 1, 0, 5, 0, 7, 0, 2, 3],\n",
       "       [7, 0, 3, 1, 0, 0, 0, 0, 0],\n",
       "       [0, 3, 5, 0, 0, 1, 0, 9, 0],\n",
       "       [0, 7, 4, 6, 0, 0, 0, 0, 0],\n",
       "       [8, 0, 1, 0, 0, 2, 0, 6, 7]], dtype=int64)"
      ]
     },
     "execution_count": 55,
     "metadata": {},
     "output_type": "execute_result"
    }
   ],
   "source": [
    "grid = np.reshape(grid, (9, 9))\n",
    "grid\n"
   ]
  },
  {
   "cell_type": "code",
   "execution_count": 56,
   "metadata": {},
   "outputs": [
    {
     "data": {
      "image/png": "[encoded data removed]",
      "text/plain": [
       "<Figure size 432x288 with 1 Axes>"
      ]
     },
     "metadata": {
      "needs_background": "light"
     },
     "output_type": "display_data"
    }
   ],
   "source": [
    "plt.figure()\n",
    "plt.imshow(su_imagewrap)\n",
    "plt.show()\n"
   ]
  },
  {
   "cell_type": "code",
   "execution_count": 57,
   "metadata": {},
   "outputs": [],
   "source": [
    "\n",
    "\n",
    "def Solved(quiz):\n",
    "    for row in range(9):\n",
    "        if row % 3 == 0 and row != 0:\n",
    "            print(\"---------------------\")\n",
    "\n",
    "        for col in range(9):\n",
    "            if col % 3 == 0 and col != 0:\n",
    "                print(\"|\", end=\" \")\n",
    "\n",
    "            if col == 8:\n",
    "                print(quiz[row][col])\n",
    "            else:\n",
    "                print(str(quiz[row][col]) + \" \", end=\"\")\n",
    "\n",
    "\n",
    "def solve(grid, row, col, num):\n",
    "    for x in range(9):\n",
    "        if grid[row][x] == num:\n",
    "            return False\n",
    "\n",
    "    for x in range(9):\n",
    "        if grid[x][col] == num:\n",
    "            return False\n",
    "\n",
    "    startRow = row - row % 3\n",
    "    startCol = col - col % 3\n",
    "    for i in range(3):\n",
    "        for j in range(3):\n",
    "            if grid[i + startRow][j + startCol] == num:\n",
    "                return False\n",
    "    return True\n",
    "\n",
    "\n",
    "def Suduko(grid, row, col):\n",
    "\n",
    "    M = 9\n",
    "    if (row == M - 1 and col == M):\n",
    "        return True\n",
    "    if col == M:\n",
    "        row += 1\n",
    "        col = 0\n",
    "    if grid[row][col] > 0:\n",
    "        return Suduko(grid, row, col + 1)\n",
    "    for num in range(1, M + 1, 1):\n",
    "\n",
    "        if solve(grid, row, col, num):\n",
    "\n",
    "            grid[row][col] = num\n",
    "            if Suduko(grid, row, col + 1):\n",
    "                return True\n",
    "        grid[row][col] = 0\n",
    "    return False\n"
   ]
  },
  {
   "cell_type": "code",
   "execution_count": 58,
   "metadata": {},
   "outputs": [
    {
     "name": "stdout",
     "output_type": "stream",
     "text": [
      "3 8 7 | 9 6 4 | 2 1 5\n",
      "5 4 9 | 2 1 8 | 7 3 6\n",
      "1 6 2 | 3 7 5 | 9 8 4\n",
      "---------------------\n",
      "4 2 6 | 8 9 3 | 5 7 1\n",
      "9 1 8 | 5 4 7 | 6 2 3\n",
      "7 5 3 | 1 2 6 | 8 4 9\n",
      "---------------------\n",
      "6 3 5 | 7 8 1 | 4 9 2\n",
      "2 7 4 | 6 3 9 | 1 5 8\n",
      "8 9 1 | 4 5 2 | 3 6 7\n"
     ]
    }
   ],
   "source": [
    "\n",
    "\n",
    "if (Suduko(grid, 0, 0)):\n",
    "    Solved(grid)\n",
    "else:\n",
    "    print(\"Solution does not exist:(\")\n"
   ]
  }
 ],
 "metadata": {
  "kernelspec": {
   "display_name": "Python 3.10.2 64-bit",
   "language": "python",
   "name": "python3"
  },
  "language_info": {
   "codemirror_mode": {
    "name": "ipython",
    "version": 3
   },
   "file_extension": ".py",
   "mimetype": "text/x-python",
   "name": "python",
   "nbconvert_exporter": "python",
   "pygments_lexer": "ipython3",
   "version": "3.10.7"
  },
  "orig_nbformat": 4,
  "vscode": {
   "interpreter": {
    "hash": "a9cff5a362bc38ef45d817ae74b1af54d6a076e3d773891282bce078b815ba34"
   }
  }
 },
 "nbformat": 4,
 "nbformat_minor": 2
}
